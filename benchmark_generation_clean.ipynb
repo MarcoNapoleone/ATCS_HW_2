{
 "cells": [
  {
   "cell_type": "markdown",
   "id": "a88bec117cb74bf3",
   "metadata": {},
   "source": [
    "\n",
    "# Benchmark Generator for External Version Explanation\n",
    "This notebook generates synthetic datasets for evaluating systems that explain new attributes in updated tables using external joins.\n"
   ]
  },
  {
   "metadata": {
    "ExecuteTime": {
     "end_time": "2025-04-14T15:51:16.106932Z",
     "start_time": "2025-04-14T15:51:15.950479Z"
    }
   },
   "cell_type": "code",
   "source": [
    "# 1. Setup\n",
    "import pandas as pd\n",
    "import numpy as np\n",
    "from pathlib import Path\n",
    "\n",
    "# 2. Load CSVs\n",
    "movies = pd.read_csv('data/movies.csv')  # movieId,title,genres\n",
    "ratings = pd.read_csv('data/ratings.csv')  # userId,movieId,rating,timestamp\n",
    "links = pd.read_csv('data/movies_links.csv')  # title,genres,imdbId,tmdbId\n",
    "tmdb = pd.read_csv('data/movie_details.csv')  # extended metadata"
   ],
   "id": "e2589dc4a5268904",
   "outputs": [],
   "execution_count": 5
  },
  {
   "metadata": {
    "ExecuteTime": {
     "end_time": "2025-04-14T15:51:16.114601Z",
     "start_time": "2025-04-14T15:51:16.111796Z"
    }
   },
   "cell_type": "code",
   "source": [
    "\n",
    "# 3. Create output directory\n",
    "output_dir = Path(\"generated_benchmark\")\n",
    "output_dir.mkdir(exist_ok=True)\n",
    "\n",
    "# 4. Helper to save versions\n",
    "def save_version(df, index, metadata):\n",
    "    fname = output_dir / f\"version_{index:02d}.csv\"\n",
    "    df.to_csv(fname, index=False)\n",
    "    return {\n",
    "        'version': f'version_{index:02d}.csv',\n",
    "        'rows': len(df),\n",
    "        'columns': list(df.columns),\n",
    "        'source': metadata\n",
    "    }"
   ],
   "id": "17d1c267fd07c53f",
   "outputs": [],
   "execution_count": 6
  },
  {
   "metadata": {
    "ExecuteTime": {
     "end_time": "2025-04-14T16:12:00.590074Z",
     "start_time": "2025-04-14T16:12:00.109069Z"
    }
   },
   "cell_type": "code",
   "source": [
    "\n",
    "# 5. Generate joined tables (versions)\n",
    "versions = []\n",
    "np.random.seed(42)\n",
    "\n",
    "# Version 1–5: movies + sampled ratings\n",
    "for i in range(5):\n",
    "    sampled = ratings.sample(frac=0.005)\n",
    "    merged = pd.merge(movies, sampled, on='movieId', how='inner')\n",
    "    undersampled = merged.sample(frac=np.random.uniform(0.1, 0.5))\n",
    "    versions.append(save_version(undersampled, i, 'movies + sampled ratings [undersampled]'))\n",
    "\n",
    "# Version 6–10: movies + links (random column subset)\n",
    "for i in range(5):\n",
    "    merged = pd.merge(movies, links, on=['title', 'genres'], how='left')\n",
    "    reduced = merged.drop(columns=np.random.choice(merged.columns, size=2, replace=False))\n",
    "    versions.append(save_version(undersampled, i + 5, 'movies + links - columns dropped [undersampled]'))\n",
    "\n",
    "# Version 11–15: movies + tmdb (on imdbId, tmdbId) with filtering\n",
    "linked = pd.merge(movies, links, on=['title', 'genres'], how='inner')\n",
    "for i in range(5):\n",
    "    enriched = pd.merge(linked, tmdb, on=['imdbId', 'tmdbId'], how='inner')\n",
    "    filtered = enriched[enriched['popularity'] > enriched['popularity'].quantile(0.75)]\n",
    "    undersampled = filtered.sample(frac=np.random.uniform(0.1, 0.5))\n",
    "    versions.append(save_version(undersampled, i + 10, 'movies + links + tmdb [popular only, undersampled]'))\n",
    "\n",
    "# Version 16–20: movies + tmdb + derived column\n",
    "for i in range(5):\n",
    "    enriched = pd.merge(linked, tmdb, on=['tmdbId'], how='outer')\n",
    "    enriched['profit_ratio'] = enriched['revenue'] / (enriched['budget'] + 1).where(enriched['budget'] > 0,  enriched['revenue'])\n",
    "    subset = enriched[['movieId', 'original_title', 'vote_average', 'tmdbId', 'popularity', 'profit_ratio']]\n",
    "    subset = subset.dropna()\n",
    "    subset = subset[subset['profit_ratio'] > 10]\n",
    "    versions.append(save_version(subset, i + 15, 'movies + derived column [undersampled]'))\n",
    "\n",
    "# Version 21–25: movies + average ratings (aggregated)\n",
    "avg_ratings = ratings.groupby('movieId').agg(avg_rating=('rating', 'mean')).reset_index()\n",
    "for i in range(5):\n",
    "    merged = pd.merge(movies, avg_ratings, on='movieId', how='left')\n",
    "    sampled = merged.sample(frac=np.random.uniform(0.1, 0.5))\n",
    "    versions.append(save_version(sampled, i + 20, 'movies + avg rating [undersampled]'))\n",
    "\n",
    "# Version 26–30: Simulated editing (row deletion, column renaming)\n",
    "for i in range(5):\n",
    "    sample = movies.sample(frac=np.random.uniform(0.1, 0.5))\n",
    "    sample = sample.rename(columns={'title': 'film_title'})\n",
    "    versions.append(save_version(sample, i + 25, 'movies subset with renamed column [undersampled]'))\n"
   ],
   "id": "f48f8513a80e3db1",
   "outputs": [],
   "execution_count": 30
  },
  {
   "metadata": {
    "ExecuteTime": {
     "end_time": "2025-04-14T15:52:01.337938Z",
     "start_time": "2025-04-14T15:52:01.334879Z"
    }
   },
   "cell_type": "code",
   "source": [
    "\n",
    "# 6. Save benchmark metadata\n",
    "pd.DataFrame(versions).to_json(output_dir / \"benchmark_metadata.json\", orient='records', indent=2)\n",
    "\n",
    "print(\"✅ Benchmark generation complete: 30 versioned tables.\")\n"
   ],
   "id": "3e987c37dbd352b",
   "outputs": [
    {
     "name": "stdout",
     "output_type": "stream",
     "text": [
      "✅ Benchmark generation complete: 30 versioned tables.\n"
     ]
    }
   ],
   "execution_count": 11
  }
 ],
 "metadata": {
  "kernelspec": {
   "name": "python3",
   "language": "python",
   "display_name": "Python 3 (ipykernel)"
  }
 },
 "nbformat": 4,
 "nbformat_minor": 5
}
